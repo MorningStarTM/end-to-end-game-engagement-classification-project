{
 "cells": [
  {
   "cell_type": "code",
   "execution_count": 1,
   "metadata": {},
   "outputs": [
    {
     "data": {
      "text/plain": [
       "'e:\\\\github_clone\\\\end-to-end-game-engagement-classification-project'"
      ]
     },
     "execution_count": 1,
     "metadata": {},
     "output_type": "execute_result"
    }
   ],
   "source": [
    "import os\n",
    "os.chdir('../')\n",
    "os.getcwd()"
   ]
  },
  {
   "cell_type": "code",
   "execution_count": 2,
   "metadata": {},
   "outputs": [],
   "source": [
    "import numpy as np\n",
    "import torch\n",
    "import pandas as pd\n",
    "import os\n",
    "import pandas as pd\n",
    "from sklearn.preprocessing import LabelEncoder\n",
    "from sklearn.model_selection import train_test_split\n",
    "import torch\n",
    "from src.utils import save_object\n",
    "from src.components import EngageModel\n",
    "from src.components import DataPreprocessor"
   ]
  },
  {
   "cell_type": "code",
   "execution_count": 3,
   "metadata": {},
   "outputs": [],
   "source": [
    "train_csv_path = 'artifacts\\\\train.csv'\n",
    "test_csv_path = 'artifacts\\\\test.csv'\n",
    "target_column = 'EngagementLevel'\n",
    "\n",
    "data_preprocessor = DataPreprocessor(train_csv_path, test_csv_path, target_column)\n",
    "\n",
    "# Load and encode the data\n",
    "df_train, df_test = data_preprocessor.load_and_encode_data()\n",
    "X_train_tensor, y_train_tensor, X_test_tensor, y_test_tensor = data_preprocessor.to_tensors(df_train, df_test)"
   ]
  },
  {
   "cell_type": "code",
   "execution_count": 5,
   "metadata": {},
   "outputs": [
    {
     "name": "stdout",
     "output_type": "stream",
     "text": [
      "torch.Size([32027, 11]), torch.Size([32027]), torch.Size([8007, 11]), torch.Size([8007])\n"
     ]
    }
   ],
   "source": [
    "print(f\"{X_train_tensor.shape}, {y_train_tensor.shape}, {X_test_tensor.shape}, {y_test_tensor.shape}\")"
   ]
  },
  {
   "cell_type": "code",
   "execution_count": 6,
   "metadata": {},
   "outputs": [],
   "source": [
    "model = EngageModel(11, 3, path=\"artifacts\\\\testModel.pth\")"
   ]
  },
  {
   "cell_type": "code",
   "execution_count": 7,
   "metadata": {},
   "outputs": [
    {
     "name": "stdout",
     "output_type": "stream",
     "text": [
      "Epoch 1/100, Loss: 0.6638582944869995, Training Accuracy: 0.7872\n",
      "Model saved at artifacts\\testModel.pth\n",
      "Epoch 2/100, Loss: 0.3246174454689026, Training Accuracy: 0.8003\n",
      "Model saved at artifacts\\testModel.pth\n",
      "Epoch 3/100, Loss: 0.6159190535545349, Training Accuracy: 0.8251\n",
      "Model saved at artifacts\\testModel.pth\n",
      "Epoch 4/100, Loss: 0.531983494758606, Training Accuracy: 0.8346\n",
      "Model saved at artifacts\\testModel.pth\n",
      "Epoch 5/100, Loss: 0.6278434991836548, Training Accuracy: 0.8404\n",
      "Model saved at artifacts\\testModel.pth\n",
      "Epoch 6/100, Loss: 0.4525383412837982, Training Accuracy: 0.8431\n",
      "Model saved at artifacts\\testModel.pth\n",
      "Epoch 7/100, Loss: 0.23392945528030396, Training Accuracy: 0.8592\n",
      "Model saved at artifacts\\testModel.pth\n",
      "Epoch 8/100, Loss: 0.4168712794780731, Training Accuracy: 0.8603\n",
      "Model saved at artifacts\\testModel.pth\n",
      "Epoch 9/100, Loss: 0.4712221026420593, Training Accuracy: 0.8666\n",
      "Model saved at artifacts\\testModel.pth\n",
      "Epoch 10/100, Loss: 0.2671230733394623, Training Accuracy: 0.8556\n",
      "Epoch 11/100, Loss: 0.6509910821914673, Training Accuracy: 0.8621\n",
      "Epoch 12/100, Loss: 0.5582030415534973, Training Accuracy: 0.8824\n",
      "Model saved at artifacts\\testModel.pth\n",
      "Epoch 13/100, Loss: 0.28757238388061523, Training Accuracy: 0.8602\n",
      "Epoch 14/100, Loss: 0.35608482360839844, Training Accuracy: 0.8922\n",
      "Model saved at artifacts\\testModel.pth\n",
      "Epoch 15/100, Loss: 0.29711633920669556, Training Accuracy: 0.8877\n",
      "Epoch 16/100, Loss: 0.34535107016563416, Training Accuracy: 0.8845\n",
      "Epoch 17/100, Loss: 0.3332953155040741, Training Accuracy: 0.8843\n",
      "Epoch 18/100, Loss: 0.5435106754302979, Training Accuracy: 0.8758\n",
      "Epoch 19/100, Loss: 0.6764819622039795, Training Accuracy: 0.8673\n",
      "Epoch 20/100, Loss: 0.5906403660774231, Training Accuracy: 0.8794\n",
      "Epoch 21/100, Loss: 0.6225040555000305, Training Accuracy: 0.9040\n",
      "Model saved at artifacts\\testModel.pth\n",
      "Epoch 22/100, Loss: 0.11603748053312302, Training Accuracy: 0.9090\n",
      "Model saved at artifacts\\testModel.pth\n",
      "Epoch 23/100, Loss: 0.3875494599342346, Training Accuracy: 0.9051\n",
      "Epoch 24/100, Loss: 0.5773706436157227, Training Accuracy: 0.9106\n",
      "Model saved at artifacts\\testModel.pth\n",
      "Epoch 25/100, Loss: 0.690878689289093, Training Accuracy: 0.9089\n",
      "Epoch 26/100, Loss: 0.15002362430095673, Training Accuracy: 0.8929\n",
      "Epoch 27/100, Loss: 0.2912866473197937, Training Accuracy: 0.9100\n",
      "Epoch 28/100, Loss: 0.7014552354812622, Training Accuracy: 0.9014\n",
      "Epoch 29/100, Loss: 0.20248089730739594, Training Accuracy: 0.8983\n",
      "Epoch 30/100, Loss: 0.40197882056236267, Training Accuracy: 0.9042\n",
      "Epoch 31/100, Loss: 0.15677212178707123, Training Accuracy: 0.8985\n",
      "Epoch 32/100, Loss: 0.16778859496116638, Training Accuracy: 0.9077\n",
      "Epoch 33/100, Loss: 0.4269581139087677, Training Accuracy: 0.9103\n",
      "Epoch 34/100, Loss: 0.3464697599411011, Training Accuracy: 0.9050\n",
      "Epoch 35/100, Loss: 1.0057086944580078, Training Accuracy: 0.8838\n",
      "Epoch 36/100, Loss: 0.2680557668209076, Training Accuracy: 0.9093\n",
      "Epoch 37/100, Loss: 0.2857704758644104, Training Accuracy: 0.9081\n",
      "Epoch 38/100, Loss: 0.3945610225200653, Training Accuracy: 0.9071\n",
      "Epoch 39/100, Loss: 0.4467754662036896, Training Accuracy: 0.9123\n",
      "Model saved at artifacts\\testModel.pth\n",
      "Epoch 40/100, Loss: 0.3275078535079956, Training Accuracy: 0.8962\n",
      "Epoch 41/100, Loss: 0.3292562663555145, Training Accuracy: 0.9106\n",
      "Epoch 42/100, Loss: 0.4217361509799957, Training Accuracy: 0.9071\n",
      "Epoch 43/100, Loss: 0.5325350761413574, Training Accuracy: 0.9141\n",
      "Model saved at artifacts\\testModel.pth\n",
      "Epoch 44/100, Loss: 0.1919478476047516, Training Accuracy: 0.9057\n",
      "Epoch 45/100, Loss: 0.36215347051620483, Training Accuracy: 0.9012\n",
      "Epoch 46/100, Loss: 0.4305071532726288, Training Accuracy: 0.9140\n",
      "Epoch 47/100, Loss: 0.4906892478466034, Training Accuracy: 0.9075\n",
      "Epoch 48/100, Loss: 0.08339173346757889, Training Accuracy: 0.9114\n",
      "Epoch 49/100, Loss: 0.14760082960128784, Training Accuracy: 0.9104\n",
      "Epoch 50/100, Loss: 0.498836487531662, Training Accuracy: 0.9070\n",
      "Epoch 51/100, Loss: 0.3783666491508484, Training Accuracy: 0.9147\n",
      "Model saved at artifacts\\testModel.pth\n",
      "Epoch 52/100, Loss: 0.3620721995830536, Training Accuracy: 0.8978\n",
      "Epoch 53/100, Loss: 0.33703872561454773, Training Accuracy: 0.9158\n",
      "Model saved at artifacts\\testModel.pth\n",
      "Epoch 54/100, Loss: 0.2598912715911865, Training Accuracy: 0.8929\n",
      "Epoch 55/100, Loss: 0.4660738706588745, Training Accuracy: 0.9062\n",
      "Epoch 56/100, Loss: 0.21779420971870422, Training Accuracy: 0.9001\n",
      "Epoch 57/100, Loss: 0.3510255813598633, Training Accuracy: 0.9057\n",
      "Epoch 58/100, Loss: 0.5404908061027527, Training Accuracy: 0.9170\n",
      "Model saved at artifacts\\testModel.pth\n",
      "Epoch 59/100, Loss: 0.4944336414337158, Training Accuracy: 0.9114\n",
      "Epoch 60/100, Loss: 0.5849090218544006, Training Accuracy: 0.9178\n",
      "Model saved at artifacts\\testModel.pth\n",
      "Epoch 61/100, Loss: 0.7847206592559814, Training Accuracy: 0.8928\n",
      "Epoch 62/100, Loss: 0.6974372863769531, Training Accuracy: 0.8897\n",
      "Epoch 63/100, Loss: 0.3985641896724701, Training Accuracy: 0.9048\n",
      "Epoch 64/100, Loss: 0.1219513863325119, Training Accuracy: 0.9030\n",
      "Epoch 65/100, Loss: 0.2620387673377991, Training Accuracy: 0.9159\n",
      "Epoch 66/100, Loss: 0.2162451148033142, Training Accuracy: 0.9123\n",
      "Epoch 67/100, Loss: 0.7010109424591064, Training Accuracy: 0.9153\n",
      "Epoch 68/100, Loss: 0.510319173336029, Training Accuracy: 0.9174\n",
      "Epoch 69/100, Loss: 0.2887040376663208, Training Accuracy: 0.9190\n",
      "Model saved at artifacts\\testModel.pth\n",
      "Epoch 70/100, Loss: 0.09028396010398865, Training Accuracy: 0.9088\n",
      "Epoch 71/100, Loss: 0.2554066479206085, Training Accuracy: 0.8921\n",
      "Epoch 72/100, Loss: 0.254025936126709, Training Accuracy: 0.9081\n",
      "Epoch 73/100, Loss: 0.12036266177892685, Training Accuracy: 0.9137\n",
      "Epoch 74/100, Loss: 0.6268001794815063, Training Accuracy: 0.9105\n",
      "Epoch 75/100, Loss: 0.3274935185909271, Training Accuracy: 0.9191\n",
      "Model saved at artifacts\\testModel.pth\n",
      "Epoch 76/100, Loss: 0.14404115080833435, Training Accuracy: 0.8945\n",
      "Epoch 77/100, Loss: 0.48680710792541504, Training Accuracy: 0.9175\n",
      "Epoch 78/100, Loss: 0.19530537724494934, Training Accuracy: 0.9148\n",
      "Epoch 79/100, Loss: 0.4154640734195709, Training Accuracy: 0.9011\n",
      "Epoch 80/100, Loss: 0.38962361216545105, Training Accuracy: 0.9181\n",
      "Epoch 81/100, Loss: 0.1975320726633072, Training Accuracy: 0.9053\n",
      "Epoch 82/100, Loss: 0.09712336957454681, Training Accuracy: 0.9206\n",
      "Model saved at artifacts\\testModel.pth\n",
      "Epoch 83/100, Loss: 0.3881223201751709, Training Accuracy: 0.9118\n",
      "Epoch 84/100, Loss: 0.08170927315950394, Training Accuracy: 0.9219\n",
      "Model saved at artifacts\\testModel.pth\n",
      "Epoch 85/100, Loss: 0.18338091671466827, Training Accuracy: 0.9140\n",
      "Epoch 86/100, Loss: 0.19964399933815002, Training Accuracy: 0.9142\n",
      "Epoch 87/100, Loss: 0.41458362340927124, Training Accuracy: 0.9184\n",
      "Epoch 88/100, Loss: 0.10508584976196289, Training Accuracy: 0.9192\n",
      "Epoch 89/100, Loss: 0.3673364520072937, Training Accuracy: 0.9075\n",
      "Epoch 90/100, Loss: 0.13344761729240417, Training Accuracy: 0.9136\n",
      "Epoch 91/100, Loss: 0.46475550532341003, Training Accuracy: 0.9193\n",
      "Epoch 92/100, Loss: 0.2458772361278534, Training Accuracy: 0.9151\n",
      "Epoch 93/100, Loss: 0.13508665561676025, Training Accuracy: 0.9165\n",
      "Epoch 94/100, Loss: 0.09925679862499237, Training Accuracy: 0.9215\n",
      "Epoch 95/100, Loss: 0.34907132387161255, Training Accuracy: 0.9254\n",
      "Model saved at artifacts\\testModel.pth\n",
      "Epoch 96/100, Loss: 0.3877424895763397, Training Accuracy: 0.9213\n",
      "Epoch 97/100, Loss: 0.1178283542394638, Training Accuracy: 0.9248\n",
      "Epoch 98/100, Loss: 0.11706218123435974, Training Accuracy: 0.9164\n",
      "Epoch 99/100, Loss: 0.3165658712387085, Training Accuracy: 0.9188\n",
      "Epoch 100/100, Loss: 0.5774093866348267, Training Accuracy: 0.9075\n"
     ]
    }
   ],
   "source": [
    "model.train(X_train_tensor, y_train_tensor, epochs=100, batch_size=32)"
   ]
  },
  {
   "cell_type": "code",
   "execution_count": 9,
   "metadata": {},
   "outputs": [
    {
     "name": "stdout",
     "output_type": "stream",
     "text": [
      "Model loaded\n",
      "Test Accuracy: 0.9122\n"
     ]
    }
   ],
   "source": [
    "model.load_model()\n",
    "test_accuracy = model.evaluate(X_test_tensor, y_test_tensor)\n",
    "print(f'Test Accuracy: {test_accuracy:.4f}')"
   ]
  },
  {
   "cell_type": "code",
   "execution_count": 10,
   "metadata": {},
   "outputs": [
    {
     "data": {
      "image/png": "[encoded data removed]",
      "text/plain": [
       "<Figure size 640x480 with 2 Axes>"
      ]
     },
     "metadata": {},
     "output_type": "display_data"
    },
    {
     "data": {
      "text/plain": [
       "array([[1836,  193,   64],\n",
       "       [ 107, 3668,  104],\n",
       "       [  68,  167, 1800]], dtype=int64)"
      ]
     },
     "execution_count": 10,
     "metadata": {},
     "output_type": "execute_result"
    }
   ],
   "source": [
    "model.compute_confusion_matrix(X_test_tensor, y_test_tensor)"
   ]
  },
  {
   "cell_type": "code",
   "execution_count": null,
   "metadata": {},
   "outputs": [],
   "source": []
  }
 ],
 "metadata": {
  "kernelspec": {
   "display_name": "g-engage",
   "language": "python",
   "name": "python3"
  },
  "language_info": {
   "codemirror_mode": {
    "name": "ipython",
    "version": 3
   },
   "file_extension": ".py",
   "mimetype": "text/x-python",
   "name": "python",
   "nbconvert_exporter": "python",
   "pygments_lexer": "ipython3",
   "version": "3.11.9"
  }
 },
 "nbformat": 4,
 "nbformat_minor": 2
}
