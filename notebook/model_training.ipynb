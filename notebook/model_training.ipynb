{
 "cells": [
  {
   "cell_type": "code",
   "execution_count": 1,
   "metadata": {},
   "outputs": [
    {
     "data": {
      "text/plain": [
       "'e:\\\\github_clone\\\\end-to-end-game-engagement-classification-project'"
      ]
     },
     "execution_count": 1,
     "metadata": {},
     "output_type": "execute_result"
    }
   ],
   "source": [
    "import os\n",
    "os.chdir('../')\n",
    "os.getcwd()"
   ]
  },
  {
   "cell_type": "code",
   "execution_count": 2,
   "metadata": {},
   "outputs": [],
   "source": [
    "import numpy as np\n",
    "import torch\n",
    "import pandas as pd\n",
    "import os\n",
    "import pandas as pd\n",
    "from sklearn.preprocessing import LabelEncoder\n",
    "from sklearn.model_selection import train_test_split\n",
    "import torch\n",
    "from src.utils import save_object\n",
    "from src.components import EngageModel\n",
    "from src.components import DataPreprocessor"
   ]
  },
  {
   "cell_type": "code",
   "execution_count": 3,
   "metadata": {},
   "outputs": [],
   "source": [
    "train_csv_path = 'artifacts\\\\train.csv'\n",
    "test_csv_path = 'artifacts\\\\test.csv'\n",
    "target_column = 'EngagementLevel'\n",
    "categorical_columns = ['Gender', 'Location', 'GameGenre', 'GameDifficulty']\n",
    "exclude_columns = ['Age', 'PlayTimeHours', 'InGamePurchases', 'SessionsPerWeek', 'AvgSessionDurationMinutes', 'PlayerLevel', 'AchievementsUnlocked']\n",
    "\n",
    "data_preprocessor = DataPreprocessor(train_csv_path, test_csv_path, target_column, categorical_columns, exclude_columns)\n",
    "\n",
    "# Load and encode the data\n",
    "df_train, df_test = data_preprocessor.load_and_encode_data()\n",
    "X_train_tensor, y_train_tensor, X_test_tensor, y_test_tensor = data_preprocessor.to_tensors(df_train, df_test)"
   ]
  },
  {
   "cell_type": "code",
   "execution_count": 4,
   "metadata": {},
   "outputs": [
    {
     "name": "stdout",
     "output_type": "stream",
     "text": [
      "torch.Size([32027, 11]), torch.Size([32027]), torch.Size([8007, 11]), torch.Size([8007])\n"
     ]
    }
   ],
   "source": [
    "print(f\"{X_train_tensor.shape}, {y_train_tensor.shape}, {X_test_tensor.shape}, {y_test_tensor.shape}\")"
   ]
  },
  {
   "cell_type": "code",
   "execution_count": 5,
   "metadata": {},
   "outputs": [],
   "source": [
    "model = EngageModel(11, 3)"
   ]
  },
  {
   "cell_type": "code",
   "execution_count": 6,
   "metadata": {},
   "outputs": [
    {
     "name": "stdout",
     "output_type": "stream",
     "text": [
      "Epoch 1/100, Loss: 0.48225653171539307, Training Accuracy: 0.7689\n",
      "Model saved at artifacts\\model.pth\n",
      "Epoch 2/100, Loss: 0.7045077681541443, Training Accuracy: 0.8144\n",
      "Model saved at artifacts\\model.pth\n",
      "Epoch 3/100, Loss: 0.4932153820991516, Training Accuracy: 0.8269\n",
      "Model saved at artifacts\\model.pth\n",
      "Epoch 4/100, Loss: 0.4388221204280853, Training Accuracy: 0.8409\n",
      "Model saved at artifacts\\model.pth\n",
      "Epoch 5/100, Loss: 0.4333448112010956, Training Accuracy: 0.8082\n",
      "Epoch 6/100, Loss: 0.3655010163784027, Training Accuracy: 0.8569\n",
      "Model saved at artifacts\\model.pth\n",
      "Epoch 7/100, Loss: 0.31505802273750305, Training Accuracy: 0.8570\n",
      "Model saved at artifacts\\model.pth\n",
      "Epoch 8/100, Loss: 0.3998725116252899, Training Accuracy: 0.8704\n",
      "Model saved at artifacts\\model.pth\n",
      "Epoch 9/100, Loss: 0.1560330092906952, Training Accuracy: 0.8682\n",
      "Epoch 10/100, Loss: 0.4210771918296814, Training Accuracy: 0.8834\n",
      "Model saved at artifacts\\model.pth\n",
      "Epoch 11/100, Loss: 0.3534579575061798, Training Accuracy: 0.8780\n",
      "Epoch 12/100, Loss: 0.17017441987991333, Training Accuracy: 0.8908\n",
      "Model saved at artifacts\\model.pth\n",
      "Epoch 13/100, Loss: 0.23610952496528625, Training Accuracy: 0.8466\n",
      "Epoch 14/100, Loss: 0.6315522789955139, Training Accuracy: 0.8873\n",
      "Epoch 15/100, Loss: 0.1523253321647644, Training Accuracy: 0.8977\n",
      "Model saved at artifacts\\model.pth\n",
      "Epoch 16/100, Loss: 0.13309267163276672, Training Accuracy: 0.9052\n",
      "Model saved at artifacts\\model.pth\n",
      "Epoch 17/100, Loss: 0.1449218988418579, Training Accuracy: 0.8845\n",
      "Epoch 18/100, Loss: 0.7383946180343628, Training Accuracy: 0.9013\n",
      "Epoch 19/100, Loss: 0.2765883505344391, Training Accuracy: 0.8819\n",
      "Epoch 20/100, Loss: 0.43480974435806274, Training Accuracy: 0.9008\n",
      "Epoch 21/100, Loss: 0.3908516466617584, Training Accuracy: 0.8868\n",
      "Epoch 22/100, Loss: 0.5028707385063171, Training Accuracy: 0.9052\n",
      "Epoch 23/100, Loss: 0.35847780108451843, Training Accuracy: 0.8793\n",
      "Epoch 24/100, Loss: 0.2737266719341278, Training Accuracy: 0.9091\n",
      "Model saved at artifacts\\model.pth\n",
      "Epoch 25/100, Loss: 0.31522196531295776, Training Accuracy: 0.9032\n",
      "Epoch 26/100, Loss: 0.14957551658153534, Training Accuracy: 0.9002\n",
      "Epoch 27/100, Loss: 0.5642666220664978, Training Accuracy: 0.9105\n",
      "Model saved at artifacts\\model.pth\n",
      "Epoch 28/100, Loss: 0.13738486170768738, Training Accuracy: 0.8897\n",
      "Epoch 29/100, Loss: 0.2354602813720703, Training Accuracy: 0.9026\n",
      "Epoch 30/100, Loss: 0.35863685607910156, Training Accuracy: 0.9090\n",
      "Epoch 31/100, Loss: 0.6570909023284912, Training Accuracy: 0.9135\n",
      "Model saved at artifacts\\model.pth\n",
      "Epoch 32/100, Loss: 0.15156957507133484, Training Accuracy: 0.9129\n",
      "Epoch 33/100, Loss: 0.3635222017765045, Training Accuracy: 0.9020\n",
      "Epoch 34/100, Loss: 0.4935532808303833, Training Accuracy: 0.9121\n",
      "Epoch 35/100, Loss: 0.12372095137834549, Training Accuracy: 0.8928\n",
      "Epoch 36/100, Loss: 0.15887823700904846, Training Accuracy: 0.9144\n",
      "Model saved at artifacts\\model.pth\n",
      "Epoch 37/100, Loss: 0.4362983703613281, Training Accuracy: 0.8616\n",
      "Epoch 38/100, Loss: 0.17019569873809814, Training Accuracy: 0.8918\n",
      "Epoch 39/100, Loss: 0.316547155380249, Training Accuracy: 0.9165\n",
      "Model saved at artifacts\\model.pth\n",
      "Epoch 40/100, Loss: 0.5580631494522095, Training Accuracy: 0.9076\n",
      "Epoch 41/100, Loss: 0.3841554522514343, Training Accuracy: 0.8931\n",
      "Epoch 42/100, Loss: 0.4635157287120819, Training Accuracy: 0.9184\n",
      "Model saved at artifacts\\model.pth\n",
      "Epoch 43/100, Loss: 0.21395140886306763, Training Accuracy: 0.9035\n",
      "Epoch 44/100, Loss: 0.11853630095720291, Training Accuracy: 0.9168\n",
      "Epoch 45/100, Loss: 0.3874067962169647, Training Accuracy: 0.9129\n",
      "Epoch 46/100, Loss: 0.1390787810087204, Training Accuracy: 0.9134\n",
      "Epoch 47/100, Loss: 0.20542794466018677, Training Accuracy: 0.9115\n",
      "Epoch 48/100, Loss: 0.34812381863594055, Training Accuracy: 0.9150\n",
      "Epoch 49/100, Loss: 0.3914434611797333, Training Accuracy: 0.9146\n",
      "Epoch 50/100, Loss: 0.10950116813182831, Training Accuracy: 0.9130\n",
      "Epoch 51/100, Loss: 0.38745856285095215, Training Accuracy: 0.9148\n",
      "Epoch 52/100, Loss: 0.5493568181991577, Training Accuracy: 0.9174\n",
      "Epoch 53/100, Loss: 0.1530703455209732, Training Accuracy: 0.9146\n",
      "Epoch 54/100, Loss: 0.14381743967533112, Training Accuracy: 0.9066\n",
      "Epoch 55/100, Loss: 0.22117717564105988, Training Accuracy: 0.9125\n",
      "Epoch 56/100, Loss: 0.601569652557373, Training Accuracy: 0.9006\n",
      "Epoch 57/100, Loss: 0.2134566307067871, Training Accuracy: 0.9168\n",
      "Epoch 58/100, Loss: 0.5079180598258972, Training Accuracy: 0.9169\n",
      "Epoch 59/100, Loss: 0.33542346954345703, Training Accuracy: 0.9054\n",
      "Epoch 60/100, Loss: 0.4358595609664917, Training Accuracy: 0.9133\n",
      "Epoch 61/100, Loss: 0.7276583909988403, Training Accuracy: 0.9170\n",
      "Epoch 62/100, Loss: 0.43031448125839233, Training Accuracy: 0.9207\n",
      "Model saved at artifacts\\model.pth\n",
      "Epoch 63/100, Loss: 0.35073745250701904, Training Accuracy: 0.9101\n",
      "Epoch 64/100, Loss: 0.39622291922569275, Training Accuracy: 0.9033\n",
      "Epoch 65/100, Loss: 0.0972883328795433, Training Accuracy: 0.9213\n",
      "Model saved at artifacts\\model.pth\n",
      "Epoch 66/100, Loss: 0.3033524751663208, Training Accuracy: 0.9197\n",
      "Epoch 67/100, Loss: 0.6588162779808044, Training Accuracy: 0.9215\n",
      "Model saved at artifacts\\model.pth\n",
      "Epoch 68/100, Loss: 0.3805184066295624, Training Accuracy: 0.9090\n",
      "Epoch 69/100, Loss: 0.08714956045150757, Training Accuracy: 0.9134\n",
      "Epoch 70/100, Loss: 0.1979530155658722, Training Accuracy: 0.8907\n",
      "Epoch 71/100, Loss: 0.05606962740421295, Training Accuracy: 0.9180\n",
      "Epoch 72/100, Loss: 0.505385160446167, Training Accuracy: 0.9174\n",
      "Epoch 73/100, Loss: 0.3308827579021454, Training Accuracy: 0.9136\n",
      "Epoch 74/100, Loss: 0.1034272238612175, Training Accuracy: 0.9196\n",
      "Epoch 75/100, Loss: 0.4687683582305908, Training Accuracy: 0.9213\n",
      "Epoch 76/100, Loss: 0.10438551753759384, Training Accuracy: 0.9015\n",
      "Epoch 77/100, Loss: 0.34517428278923035, Training Accuracy: 0.8911\n",
      "Epoch 78/100, Loss: 0.2889065444469452, Training Accuracy: 0.9207\n",
      "Epoch 79/100, Loss: 0.4784041941165924, Training Accuracy: 0.9155\n",
      "Epoch 80/100, Loss: 0.06206149607896805, Training Accuracy: 0.9115\n",
      "Epoch 81/100, Loss: 0.18901477754116058, Training Accuracy: 0.9188\n",
      "Epoch 82/100, Loss: 0.4808811545372009, Training Accuracy: 0.9174\n",
      "Epoch 83/100, Loss: 0.6957913041114807, Training Accuracy: 0.9084\n",
      "Epoch 84/100, Loss: 0.18858575820922852, Training Accuracy: 0.9192\n",
      "Epoch 85/100, Loss: 0.5633454322814941, Training Accuracy: 0.9213\n",
      "Epoch 86/100, Loss: 0.14812906086444855, Training Accuracy: 0.9080\n",
      "Epoch 87/100, Loss: 0.12281843274831772, Training Accuracy: 0.9150\n",
      "Epoch 88/100, Loss: 0.390728622674942, Training Accuracy: 0.9112\n",
      "Epoch 89/100, Loss: 0.41890498995780945, Training Accuracy: 0.9103\n",
      "Epoch 90/100, Loss: 0.28742870688438416, Training Accuracy: 0.8966\n",
      "Epoch 91/100, Loss: 0.4313983619213104, Training Accuracy: 0.9185\n",
      "Epoch 92/100, Loss: 0.3807545304298401, Training Accuracy: 0.9181\n",
      "Epoch 93/100, Loss: 0.32270869612693787, Training Accuracy: 0.9216\n",
      "Model saved at artifacts\\model.pth\n",
      "Epoch 94/100, Loss: 0.11778255552053452, Training Accuracy: 0.9214\n",
      "Epoch 95/100, Loss: 0.3243081867694855, Training Accuracy: 0.9217\n",
      "Model saved at artifacts\\model.pth\n",
      "Epoch 96/100, Loss: 0.10932334512472153, Training Accuracy: 0.9146\n",
      "Epoch 97/100, Loss: 0.14943498373031616, Training Accuracy: 0.9124\n",
      "Epoch 98/100, Loss: 0.33481425046920776, Training Accuracy: 0.9125\n",
      "Epoch 99/100, Loss: 0.3404774069786072, Training Accuracy: 0.9218\n",
      "Model saved at artifacts\\model.pth\n",
      "Epoch 100/100, Loss: 0.2566129267215729, Training Accuracy: 0.9166\n"
     ]
    }
   ],
   "source": [
    "model.train(X_train_tensor, y_train_tensor, epochs=100, batch_size=32)"
   ]
  },
  {
   "cell_type": "code",
   "execution_count": 6,
   "metadata": {},
   "outputs": [
    {
     "name": "stdout",
     "output_type": "stream",
     "text": [
      "Model loaded\n",
      "Test Accuracy: 0.9126\n"
     ]
    }
   ],
   "source": [
    "model.load_model()\n",
    "test_accuracy = model.evaluate(X_test_tensor, y_test_tensor)\n",
    "print(f'Test Accuracy: {test_accuracy:.4f}')"
   ]
  },
  {
   "cell_type": "code",
   "execution_count": 7,
   "metadata": {},
   "outputs": [
    {
     "data": {
      "image/png": "[encoded data removed]",
      "text/plain": [
       "<Figure size 640x480 with 2 Axes>"
      ]
     },
     "metadata": {},
     "output_type": "display_data"
    },
    {
     "data": {
      "text/plain": [
       "array([[1838,  196,   59],\n",
       "       [  92, 3696,   91],\n",
       "       [  67,  195, 1773]], dtype=int64)"
      ]
     },
     "execution_count": 7,
     "metadata": {},
     "output_type": "execute_result"
    }
   ],
   "source": [
    "model.compute_confusion_matrix(X_test_tensor, y_test_tensor)"
   ]
  },
  {
   "cell_type": "code",
   "execution_count": null,
   "metadata": {},
   "outputs": [],
   "source": []
  }
 ],
 "metadata": {
  "kernelspec": {
   "display_name": "g-engage",
   "language": "python",
   "name": "python3"
  },
  "language_info": {
   "codemirror_mode": {
    "name": "ipython",
    "version": 3
   },
   "file_extension": ".py",
   "mimetype": "text/x-python",
   "name": "python",
   "nbconvert_exporter": "python",
   "pygments_lexer": "ipython3",
   "version": "3.11.9"
  }
 },
 "nbformat": 4,
 "nbformat_minor": 2
}
