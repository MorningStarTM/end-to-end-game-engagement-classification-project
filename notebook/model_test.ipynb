{
 "cells": [
  {
   "cell_type": "code",
   "execution_count": 1,
   "metadata": {},
   "outputs": [
    {
     "data": {
      "text/plain": [
       "'e:\\\\github_clone\\\\end-to-end-game-engagement-classification-project'"
      ]
     },
     "execution_count": 1,
     "metadata": {},
     "output_type": "execute_result"
    }
   ],
   "source": [
    "import os\n",
    "os.chdir('../')\n",
    "os.getcwd()"
   ]
  },
  {
   "cell_type": "code",
   "execution_count": 2,
   "metadata": {},
   "outputs": [],
   "source": [
    "import torch\n",
    "import pickle\n",
    "from src.components import EngageModel\n",
    "import pandas as pd\n",
    "import torch.nn.functional as F\n",
    "from src.components import DataPreprocessor\n",
    "from src.model_deployment import prepare_data_for_model"
   ]
  },
  {
   "cell_type": "code",
   "execution_count": 3,
   "metadata": {},
   "outputs": [
    {
     "name": "stdout",
     "output_type": "stream",
     "text": [
      "Model loaded\n"
     ]
    }
   ],
   "source": [
    "model = EngageModel(11,3)\n",
    "model.load_model()"
   ]
  },
  {
   "cell_type": "code",
   "execution_count": 4,
   "metadata": {},
   "outputs": [],
   "source": [
    "train_csv_path = 'artifacts\\\\train.csv'\n",
    "test_csv_path = 'artifacts\\\\test.csv'\n",
    "target_column = 'EngagementLevel'\n",
    "categorical_columns = ['Gender', 'Location', 'GameGenre', 'GameDifficulty']\n",
    "exclude_columns = ['Age', 'PlayTimeHours', 'InGamePurchases', 'SessionsPerWeek', 'AvgSessionDurationMinutes', 'PlayerLevel', 'AchievementsUnlocked']\n",
    "\n",
    "data_preprocessor = DataPreprocessor(train_csv_path, test_csv_path, target_column, categorical_columns, exclude_columns)\n",
    "\n",
    "# Load and encode the data\n",
    "df_train, df_test = data_preprocessor.load_and_encode_data()\n",
    "X_train_tensor, y_train_tensor, X_test_tensor, y_test_tensor = data_preprocessor.to_tensors(df_train, df_test)"
   ]
  },
  {
   "cell_type": "code",
   "execution_count": 5,
   "metadata": {},
   "outputs": [
    {
     "name": "stdout",
     "output_type": "stream",
     "text": [
      "preprocessor loaded\n"
     ]
    }
   ],
   "source": [
    "data = {\n",
    "    'Age': 25,\n",
    "    'Gender': 'Male',\n",
    "    'Location': 'USA',\n",
    "    'GameGenre': 'Action',\n",
    "    'PlayTimeHours': 5.5,\n",
    "    'InGamePurchases': 2,\n",
    "    'GameDifficulty': 'Medium',\n",
    "    'SessionsPerWeek': 4,\n",
    "    'AvgSessionDurationMinutes': 45,\n",
    "    'PlayerLevel': 10,\n",
    "    'AchievementsUnlocked': 20,\n",
    "}\n",
    "\n",
    "encoders_path = 'artifacts\\\\preprocessor.pkl'\n",
    "target_column = 'EngagementLevel'\n",
    "\n",
    "df_transformed = prepare_data_for_model(data, encoders_path)"
   ]
  },
  {
   "cell_type": "code",
   "execution_count": 6,
   "metadata": {},
   "outputs": [
    {
     "data": {
      "text/plain": [
       "tensor([[25.0000,  5.5000,  2.0000,  4.0000, 45.0000, 10.0000, 20.0000,  1.0000,\n",
       "          3.0000,  0.0000,  2.0000]])"
      ]
     },
     "execution_count": 6,
     "metadata": {},
     "output_type": "execute_result"
    }
   ],
   "source": [
    "df_transformed"
   ]
  },
  {
   "cell_type": "code",
   "execution_count": 7,
   "metadata": {},
   "outputs": [],
   "source": [
    "pred = model.predict(df_transformed)"
   ]
  },
  {
   "cell_type": "code",
   "execution_count": 8,
   "metadata": {},
   "outputs": [
    {
     "data": {
      "text/plain": [
       "0"
      ]
     },
     "execution_count": 8,
     "metadata": {},
     "output_type": "execute_result"
    }
   ],
   "source": [
    "pred.item()"
   ]
  }
 ],
 "metadata": {
  "kernelspec": {
   "display_name": "g-engage",
   "language": "python",
   "name": "python3"
  },
  "language_info": {
   "codemirror_mode": {
    "name": "ipython",
    "version": 3
   },
   "file_extension": ".py",
   "mimetype": "text/x-python",
   "name": "python",
   "nbconvert_exporter": "python",
   "pygments_lexer": "ipython3",
   "version": "3.11.9"
  }
 },
 "nbformat": 4,
 "nbformat_minor": 2
}
